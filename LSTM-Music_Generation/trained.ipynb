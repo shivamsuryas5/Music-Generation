{
 "cells": [
  {
   "cell_type": "code",
   "execution_count": 9,
   "metadata": {},
   "outputs": [],
   "source": [
    "# Importing basic necessary libraries for music generation\n",
    "import sys\n",
    "import os\n",
    "import time\n",
    "import ipykernel\n",
    "import numpy as np\n",
    "import matplotlib.pyplot as plt\n",
    "from tensorflow.keras.models import Sequential\n",
    "from tensorflow.keras.layers import LSTM, Dense, BatchNormalization, Dropout, TimeDistributed, RepeatVector\n",
    "from tensorflow.keras.callbacks import EarlyStopping, History\n",
    "from tensorflow.keras.models import model_from_json\n",
    "from tensorflow.keras.optimizers import RMSprop\n",
    "from tensorflow.keras.callbacks import ModelCheckpoint\n",
    "from midi_parser import getData, createTrainData\n",
    "import tensorflow as tf"
   ]
  },
  {
   "cell_type": "code",
   "execution_count": 3,
   "metadata": {},
   "outputs": [],
   "source": [
    "highest_note = 81 # A_6  Value directly taken from parser.py\n",
    "lowest_note = 33 # A_2   Value directly taken from parser.py\n",
    "pitch_dimension = highest_note - lowest_note + 1\n",
    "\n",
    "# Model parameters\n",
    "num_hidden = 512\n",
    "x_len = 100\n",
    "y_len = 10\n",
    "batch_size = 64\n",
    "epochs = 3\n",
    "\n",
    "load_weight = True\n",
    "weight_path = \"./model/Weight_LSTM.hdf5\"   # Path for the weight of the model\n",
    "model_path = \"./model/Model_LSTM.json\"     # Path for the json file of the model"
   ]
  },
  {
   "cell_type": "code",
   "execution_count": 1,
   "metadata": {},
   "outputs": [
    {
     "name": "stdout",
     "output_type": "stream",
     "text": [
      "Enter Genre to train = \n",
      "C:/Users/shivam/Documents/Music_Generator_Phase2/MusicGeneration/Classical\n"
     ]
    }
   ],
   "source": [
    "print(\"Enter Genre to train = \")           # User is asked to enter the genre of the music which needs to be trained.\n",
    "data_path = input()"
   ]
  },
  {
   "cell_type": "code",
   "execution_count": 5,
   "metadata": {},
   "outputs": [],
   "source": [
    "def buildModel():\n",
    "    \n",
    "    #Building a LSTM model\n",
    "\n",
    "    #encoding\n",
    "    model = Sequential()\n",
    "    model.add(LSTM(num_hidden, input_dim = pitch_dimension, return_sequences = True))\n",
    "    model.add(BatchNormalization())\n",
    "    model.add(Dropout(0.2))\n",
    "\n",
    "    model.add(LSTM(num_hidden))\n",
    "    model.add(RepeatVector(y_length))\n",
    "    \n",
    "    #decoder\n",
    "    model.add(LSTM(num_hidden, return_sequences = True))\n",
    "    model.add(Dropout(0.2))\n",
    "\n",
    "    model.add(LSTM(num_hidden, return_sequences = True))\n",
    "    model.add(Dropout(0.2))\n",
    "\n",
    "    model.add(LSTM(num_hidden, return_sequences = True))\n",
    "    model.add(Dropout(0.2))\n",
    "    \n",
    "    model.add(TimeDistributed(Dense(pitch_dimension, activation= 'softmax')))\n",
    "    model.add(TimeDistributed(Dense(pitch_dimension, activation= 'softmax')))\n",
    "\n",
    "    return model\n",
    "\n"
   ]
  },
  {
   "cell_type": "code",
   "execution_count": null,
   "metadata": {},
   "outputs": [],
   "source": [
    "if __name__ == '__main__':\n",
    "    \n",
    "    # preparing data for training\n",
    "    pianoroll = getData(data_path)\n",
    "    X,Y = createTrainData(pianoroll, x_len, y_len)\n",
    "    \n",
    "    # building a model\n",
    "    model = buildModel()\n",
    "    model.summary()\n",
    "    if load_weight:\n",
    "        model.load_weight(weight_path)\n",
    "    model.compile(loss='categorical_crossentropy', optimizer = RMSprop())\n",
    "\n",
    "    # model callbacks\n",
    "    checkpoint = ModelCheckpoint(weight_path, monitor='loss', verbose=0, save_best_only=True, mode='auto') # saving our model weights\n",
    "    earlystop = EarlyStopping(monitor='loss', patience= 10, verbose=0, mode= 'auto') # terminating our training\n",
    "    history = History() # ploting any training loss\n",
    "\n",
    "    # train the model\n",
    "    hist = model.fit(X.astype(np.bool), Y.astype(np.bool), batch_size=batch_size, epochs=num_epochs, callbacks=[earlystop, history, checkpoint])\n",
    "\n",
    "    # save trained model structure\n",
    "    open(model_path, 'w').write(model.to_json())\n",
    "\n",
    "    # plot training loss\n",
    "    img = plt.figure(figsize=(6,5), dpi=75)\n",
    "    plt.plot(hist.history['loss'])\n",
    "    img.savefig(\"TrainingLoss.png\", bbox_inches='tight')"
   ]
  }
 ],
 "metadata": {
  "kernelspec": {
   "display_name": "Python 3",
   "language": "python",
   "name": "python3"
  },
  "language_info": {
   "codemirror_mode": {
    "name": "ipython",
    "version": 3
   },
   "file_extension": ".py",
   "mimetype": "text/x-python",
   "name": "python",
   "nbconvert_exporter": "python",
   "pygments_lexer": "ipython3",
   "version": "3.7.3"
  }
 },
 "nbformat": 4,
 "nbformat_minor": 2
}
