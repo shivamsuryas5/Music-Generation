{
 "cells": [
  {
   "cell_type": "code",
   "execution_count": 7,
   "metadata": {},
   "outputs": [],
   "source": [
    "# All the basic necessary libraries for geneartion of music \n",
    "import sys\n",
    "import time\n",
    "import random\n",
    "import glob\n",
    "import numpy as np\n",
    "from tensorflow.keras.models import model_from_json\n",
    "from tensorflow.keras.optimizers import Adam, RMSprop\n",
    "from midi_parser import *"
   ]
  },
  {
   "cell_type": "code",
   "execution_count": 8,
   "metadata": {},
   "outputs": [],
   "source": [
    "# Declaration of global parameters\n",
    "\n",
    "x_len = 100 # Length of the sample sequence\n",
    "\n",
    "y_len = 10  # Length of the output sequence. This value must be close/consistent with the value mentioned in trained.ipynb.\n",
    "\n",
    "iteration = 50 # determines the number of iteration to generate in new sequence. Final result of total(length): y_len * itertaion\n"
   ]
  },
  {
   "cell_type": "code",
   "execution_count": 10,
   "metadata": {},
   "outputs": [
    {
     "name": "stdout",
     "output_type": "stream",
     "text": [
      "C:/Users/shivam/Documents/Music_Generator_Phase2/MuiscGeneration/Classical\n"
     ]
    }
   ],
   "source": [
    "saved_model = \"./model/Model_LSTM.json\"        # Extracting the path for the json file for LSTM network.\n",
    "saved_weights = \"./model/Weight_LSTM.hdf5\"     # Extracting the path for the weight of model of LSTM.\n",
    "output_folder = \"./Muisc_Generated\"                        # Make a directory \"Music_Generated for storing all the music files\"\n",
    "print(\"Enter the desired Genre of Music  = \")  # Ask the user to take input for the genre category for which music to be generated\n",
    "sample_folder = input()"
   ]
  },
  {
   "cell_type": "code",
   "execution_count": 11,
   "metadata": {},
   "outputs": [
    {
     "name": "stdout",
     "output_type": "stream",
     "text": [
      "Enter the name to save your music = \n",
      "newClassical.mid\n"
     ]
    }
   ],
   "source": [
    "print(\"Enter the name to save your music = \") # Enter the desired name for the name of the song which you want to save.\n",
    "sav_name = input()"
   ]
  },
  {
   "cell_type": "code",
   "execution_count": 12,
   "metadata": {},
   "outputs": [
    {
     "name": "stdout",
     "output_type": "stream",
     "text": [
      "Model: \"sequential_5\"\n",
      "_________________________________________________________________\n",
      "Layer (type)                 Output Shape              Param #   \n",
      "=================================================================\n",
      "lstm_25 (LSTM)               (None, None, 512)         1150976   \n",
      "_________________________________________________________________\n",
      "batch_normalization_5 (Batch (None, None, 512)         2048      \n",
      "_________________________________________________________________\n",
      "dropout_20 (Dropout)         (None, None, 512)         0         \n",
      "_________________________________________________________________\n",
      "lstm_26 (LSTM)               (None, 512)               2099200   \n",
      "_________________________________________________________________\n",
      "repeat_vector_5 (RepeatVecto (None, 10, 512)           0         \n",
      "_________________________________________________________________\n",
      "lstm_27 (LSTM)               (None, 10, 512)           2099200   \n",
      "_________________________________________________________________\n",
      "dropout_21 (Dropout)         (None, 10, 512)           0         \n",
      "_________________________________________________________________\n",
      "lstm_28 (LSTM)               (None, 10, 512)           2099200   \n",
      "_________________________________________________________________\n",
      "dropout_22 (Dropout)         (None, 10, 512)           0         \n",
      "_________________________________________________________________\n",
      "lstm_29 (LSTM)               (None, 10, 512)           2099200   \n",
      "_________________________________________________________________\n",
      "dropout_23 (Dropout)         (None, 10, 512)           0         \n",
      "_________________________________________________________________\n",
      "time_distributed_10 (TimeDis (None, 10, 49)            25137     \n",
      "_________________________________________________________________\n",
      "time_distributed_11 (TimeDis (None, 10, 49)            2450      \n",
      "=================================================================\n",
      "Total params: 9,577,411\n",
      "Trainable params: 9,576,387\n",
      "Non-trainable params: 1,024\n",
      "_________________________________________________________________\n",
      "output shape:  (50, 10, 49)\n",
      "pianoroll shape:  (500, 49)\n"
     ]
    }
   ],
   "source": [
    "# Function for generating music from the category of music inserted with adjusting in tempo and its resolution.\n",
    "\n",
    "def generate(input_data, tempo, resolution):\n",
    "    \n",
    "    '''\n",
    "        Generate the new music and save to a midi file folder with the desired name given by the user.\n",
    "\n",
    "        parameters and some terminologies:\n",
    "        \n",
    "                input_data: fetch music pianoroll for music generation.\n",
    "                tempo: tempo value parsed from the fetched music after analysing it.\n",
    "                resolution: resolution value parsed from the fetched music. It is nothing but the move of a note or chord.\n",
    "    '''\n",
    "\n",
    "    output_path = os.path.join(output_folder,sav_name) # Assign where to store our all music generated files.\n",
    "\n",
    "    # This part randomly select a sequence from the seed music\n",
    "    start = np.random.randint(0, input_data.shape[0]-1-x_len-iteration)\n",
    "    pattern = np.array(input_data[start:start+x_len])\n",
    "    \n",
    "    # Making a prediction output array where all the chord notes will be stored.\n",
    "    prediction_output = [] \n",
    "\n",
    "    # concatenate all generated sequence\n",
    "    for i in range(iteration):\n",
    "        \n",
    "        prediction = model.predict(pattern.reshape(1,pattern.shape[0],-1).astype(float)).reshape(y_length,-1) # generating the desired sequence\n",
    "        prediction_output.append(prediction)\n",
    "        pattern = np.append(pattern[y_length:,], prediction, axis=0) # shift sliding window on input data\n",
    "\n",
    "    print(\"output shape of the array: \", np.array(prediction_output).shape)\n",
    "\n",
    "    # convert sequence back to piano roll\n",
    "    pianoroll = outputPianoRoll(np.array(prediction_output), note_threshold=0.1)\n",
    "    print(\"pianoroll shape: \", pianoroll.shape)\n",
    "    \n",
    "    # convert piano roll back to midi format of music\n",
    "    outputMidi(output_path, pianoroll, tempo, resolution, scale=int(y_len))\n",
    "\n",
    "    \n",
    "# Now below part is where we are loading our trained model which is trained by the trained.ipynb file.\n",
    "\n",
    "if __name__ == '__main__':\n",
    "\n",
    "    # load trained model      \n",
    "    \n",
    "    model = model_from_json(open(saved_model).read()) # Loading json file\n",
    "    \n",
    "    model.load_weights(saved_weights)                 # Loading our model weight\n",
    "    \n",
    "    model.summary()                                   # Generate the summary of the model\n",
    "    \n",
    "    model.compile(loss='categorical_crossentropy', optimizer = RMSprop())\n",
    "    \n",
    "\n",
    "    # randomly select a file from sample folder\n",
    "    midi_files = [file for file in os.listdir(sample_folder) if file.endswith(\".midi\") or file.endswith(\".mid\")]\n",
    "    input_data, tempo, resolution = parseMidi( os.path.join(sample_folder, midi_files[random.randint(0,len(midi_files)-1)]) )\n",
    "\n",
    "    # generate new music\n",
    "    generate(input_data, tempo, resolution)"
   ]
  }
 ],
 "metadata": {
  "kernelspec": {
   "display_name": "Python 3",
   "language": "python",
   "name": "python3"
  },
  "language_info": {
   "codemirror_mode": {
    "name": "ipython",
    "version": 3
   },
   "file_extension": ".py",
   "mimetype": "text/x-python",
   "name": "python",
   "nbconvert_exporter": "python",
   "pygments_lexer": "ipython3",
   "version": "3.7.3"
  }
 },
 "nbformat": 4,
 "nbformat_minor": 2
}
